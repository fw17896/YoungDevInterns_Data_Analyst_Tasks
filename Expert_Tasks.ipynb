{
  "nbformat": 4,
  "nbformat_minor": 0,
  "metadata": {
    "colab": {
      "provenance": []
    },
    "kernelspec": {
      "name": "python3",
      "display_name": "Python 3"
    },
    "language_info": {
      "name": "python"
    }
  },
  "cells": [
    {
      "cell_type": "markdown",
      "source": [
        "# **Expert Tasks**"
      ],
      "metadata": {
        "id": "jbp_DdbtK1HR"
      }
    },
    {
      "cell_type": "markdown",
      "source": [
        "**Task 1**\n",
        "\n",
        "---\n",
        "\n",
        "\n",
        "\n",
        "\n",
        "Load and Explore the Dataset"
      ],
      "metadata": {
        "id": "4eXS5wWYI8Hf"
      }
    },
    {
      "cell_type": "code",
      "execution_count": 5,
      "metadata": {
        "id": "_h4Obch4Iw7Q"
      },
      "outputs": [],
      "source": [
        "import pandas as pd\n",
        "df_cleaned = pd.read_csv(\"Global YouTube Statistics.csv\" , delimiter = '\\t' , encoding = \"latin-1\")\n",
        "\n",
        "df_cleaned = pd.read_csv(\"Global YouTube Statistics.csv\" , nrows=100, encoding = \"latin-1\")"
      ]
    },
    {
      "cell_type": "markdown",
      "source": [
        "Handle Missing Values"
      ],
      "metadata": {
        "id": "zxI9Fi17QevM"
      }
    },
    {
      "cell_type": "code",
      "source": [
        "# Check for missing values\n",
        "print(df_cleaned.isnull().sum())\n",
        "\n",
        "# Fill missing numerical values with the median\n",
        "df_cleaned.fillna(df_cleaned.median(numeric_only=True), inplace=True)\n",
        "\n",
        "# Fill categorical missing values with the most frequent category\n",
        "df_cleaned.fillna(df_cleaned.mode().iloc[0], inplace=True)\n"
      ],
      "metadata": {
        "colab": {
          "base_uri": "https://localhost:8080/"
        },
        "id": "ZNykDi2rQHJy",
        "outputId": "945fede4-935a-47d1-b243-ba03d7d7dd9e"
      },
      "execution_count": 6,
      "outputs": [
        {
          "output_type": "stream",
          "name": "stdout",
          "text": [
            "rank                                        0\n",
            "Youtuber                                    0\n",
            "subscribers                                 0\n",
            "video views                                 0\n",
            "category                                    4\n",
            "Title                                       0\n",
            "uploads                                     0\n",
            "Country                                    11\n",
            "Abbreviation                               11\n",
            "channel_type                                2\n",
            "video_views_rank                            0\n",
            "country_rank                               11\n",
            "channel_type_rank                           4\n",
            "video_views_for_the_last_30_days            4\n",
            "lowest_monthly_earnings                     0\n",
            "highest_monthly_earnings                    0\n",
            "lowest_yearly_earnings                      0\n",
            "highest_yearly_earnings                     0\n",
            "subscribers_for_last_30_days               22\n",
            "created_year                                0\n",
            "created_month                               0\n",
            "created_date                                0\n",
            "Gross tertiary education enrollment (%)    11\n",
            "Population                                 11\n",
            "Unemployment rate                          11\n",
            "Urban_population                           11\n",
            "Latitude                                   11\n",
            "Longitude                                  11\n",
            "dtype: int64\n"
          ]
        }
      ]
    },
    {
      "cell_type": "markdown",
      "source": [
        "Remove Duplicates"
      ],
      "metadata": {
        "id": "tetnmT20QiNp"
      }
    },
    {
      "cell_type": "code",
      "source": [
        "df_cleaned.drop_duplicates(inplace=True)"
      ],
      "metadata": {
        "id": "Ues7J3bVQIBc"
      },
      "execution_count": 7,
      "outputs": []
    },
    {
      "cell_type": "markdown",
      "source": [
        "Perform Statistical Analysis"
      ],
      "metadata": {
        "id": "kq46QjpmQkh0"
      }
    },
    {
      "cell_type": "code",
      "source": [
        "from scipy import stats\n",
        "\n",
        "# Calculate mean, median, and standard deviation of subscribers\n",
        "mean_subs = df_cleaned[\"subscribers\"].mean()\n",
        "median_subs = df_cleaned[\"subscribers\"].median()\n",
        "std_subs = df_cleaned[\"subscribers\"].std()\n",
        "\n",
        "# Perform hypothesis testing: Is the mean subscriber count significantly different from a benchmark (e.g., 1M)?\n",
        "t_stat, p_value = stats.ttest_1samp(df_cleaned[\"subscribers\"], 1000000)\n",
        "\n",
        "print(f\"Mean: {mean_subs}, Median: {median_subs}, Std Dev: {std_subs}\")\n",
        "print(f\"T-Statistic: {t_stat}, P-Value: {p_value}\")"
      ],
      "metadata": {
        "colab": {
          "base_uri": "https://localhost:8080/"
        },
        "id": "TprpTrMqQLM-",
        "outputId": "381d44b1-a11f-4f6a-b105-315787b33b7b"
      },
      "execution_count": 8,
      "outputs": [
        {
          "output_type": "stream",
          "name": "stdout",
          "text": [
            "Mean: 60537000.0, Median: 46450000.0, Std Dev: 34465235.46351534\n",
            "T-Statistic: 17.274508413855305, P-Value: 1.2176401157516307e-31\n"
          ]
        }
      ]
    },
    {
      "cell_type": "markdown",
      "source": [
        "**Task 3**\n",
        "\n",
        "---\n",
        " Train and test the model using historical data to predict future outcomes.\n",
        "\n"
      ],
      "metadata": {
        "id": "nsWmwu36TNgh"
      }
    },
    {
      "cell_type": "code",
      "source": [
        "from sklearn.model_selection import train_test_split\n",
        "from sklearn.linear_model import LinearRegression\n",
        "from sklearn.metrics import mean_absolute_error, mean_squared_error\n",
        "\n",
        "# Select relevant features\n",
        "features = [\"uploads\", \"video views\", \"created_year\", \"Population\"]\n",
        "target = \"subscribers\"\n",
        "\n",
        "# Drop rows with missing values in these columns\n",
        "df = df[features + [target]].dropna()\n",
        "\n",
        "# Split data into training and testing sets\n",
        "X_train, X_test, y_train, y_test = train_test_split(df[features], df[target], test_size=0.2, random_state=42)\n",
        "\n",
        "# Train the model\n",
        "model = LinearRegression()\n",
        "model.fit(X_train, y_train)\n",
        "\n",
        "y_pred = model.predict(X_test)\n",
        "\n",
        "mae = mean_absolute_error(y_test, y_pred)\n",
        "mse = mean_squared_error(y_test, y_pred)\n",
        "\n",
        "print(f\"Mean Absolute Error: {mae}\")\n",
        "print(f\"Mean Squared Error: {mse}\")"
      ],
      "metadata": {
        "colab": {
          "base_uri": "https://localhost:8080/"
        },
        "id": "uamX58pqSvgK",
        "outputId": "7bf43d0d-e0f1-49c5-d838-8cc3d00138c7"
      },
      "execution_count": 9,
      "outputs": [
        {
          "output_type": "stream",
          "name": "stdout",
          "text": [
            "Mean Absolute Error: 21394068.32743174\n",
            "Mean Squared Error: 811100006145009.1\n"
          ]
        }
      ]
    }
  ]
}